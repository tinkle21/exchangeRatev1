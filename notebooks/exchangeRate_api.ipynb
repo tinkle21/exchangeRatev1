{
 "cells": [
  {
   "cell_type": "markdown",
   "metadata": {},
   "source": [
    "# ExchangeRate Coding Challange\n",
    "\n",
    "Connect to any exchange rates API (Sample - Exchange Rates API) to get exchange rates of Australia to New Zealand for the past 30 days into json output format\n",
    "Pre process the data to manage any expected issues\n",
    "Perform some data analysis\n",
    "    Find the best and worst exchange rates for that time period\n",
    "    Calculate the average exchange rate for the month\n"
   ]
  },
  {
   "cell_type": "markdown",
   "metadata": {},
   "source": [
    "#Get exchangeRateAPI Key:\n",
    "Use getpass module to get API key interactively from screen without displaying it in the notebook, you can use the getpass module.\n",
    "Follow steps to generate API key from:   https://exchangeratesapi.io/ . "
   ]
  },
  {
   "cell_type": "code",
   "execution_count": 1,
   "metadata": {},
   "outputs": [],
   "source": [
    "from getpass import getpass\n",
    "\n",
    "api_key = getpass('Enter your API key: ')"
   ]
  },
  {
   "cell_type": "markdown",
   "metadata": {},
   "source": [
    "# Get Exchange Rate of AUD and NZD for last 30 days\n",
    "This module is using free version of API key so its allow only latest and history date exchange Rate. Default Base is EUR .\n"
   ]
  },
  {
   "cell_type": "code",
   "execution_count": 2,
   "metadata": {},
   "outputs": [],
   "source": [
    "import requests\n",
    "from datetime import datetime, timedelta\n",
    "import json\n",
    "\n",
    "base_url= \"http://api.exchangeratesapi.io/v1/\"\n",
    "end_date = datetime.now().date()\n",
    "start_date = end_date - timedelta(days=30)\n",
    "currency = \"AUD,NZD\"\n",
    "\n"
   ]
  },
  {
   "cell_type": "markdown",
   "metadata": {},
   "source": [
    "#Get Last 30days Exchange Rate in a file"
   ]
  },
  {
   "cell_type": "code",
   "execution_count": 3,
   "metadata": {},
   "outputs": [],
   "source": [
    "data_list =[]\n",
    "while start_date <= end_date:\n",
    "    formatted_date = start_date.strftime('%Y-%m-%d')\n",
    "    url = base_url + f'{formatted_date}?access_key={api_key}&symbols={currency}'\n",
    "    #url = f'http://api.exchangeratesapi.io/history?start_at={start_date}&end_at={end_date}&base={base_currency}&symbols={target_currency}&access_key={api_key}'\n",
    "    #print(url)\n",
    "    #url = f'http://api.exchangeratesapi.io/v1/{formatted_date}?access_key={api_key}&symbols=AUD,NZD'\n",
    "    response = requests.get(url)\n",
    "    data = response.json()\n",
    "    data_list.append(data)\n",
    "    start_date += timedelta(days=1)"
   ]
  },
  {
   "cell_type": "code",
   "execution_count": 4,
   "metadata": {},
   "outputs": [],
   "source": [
    "import os\n",
    "output_folder = 'data'\n",
    "if not os.path.exists(output_folder):\n",
    "    os.makedirs(output_folder)\n",
    "file_path = os.path.join(output_folder, 'exchange_rates_final.json')"
   ]
  },
  {
   "cell_type": "code",
   "execution_count": 5,
   "metadata": {},
   "outputs": [],
   "source": [
    "with open(file_path, 'w') as file:\n",
    "        json.dump(data_list, file, indent=4)"
   ]
  }
 ],
 "metadata": {
  "kernelspec": {
   "display_name": "Python 3.10.4 64-bit",
   "language": "python",
   "name": "python3"
  },
  "language_info": {
   "codemirror_mode": {
    "name": "ipython",
    "version": 3
   },
   "file_extension": ".py",
   "mimetype": "text/x-python",
   "name": "python",
   "nbconvert_exporter": "python",
   "pygments_lexer": "ipython3",
   "version": "3.10.8"
  },
  "orig_nbformat": 4,
  "vscode": {
   "interpreter": {
    "hash": "3ad933181bd8a04b432d3370b9dc3b0662ad032c4dfaa4e4f1596c548f763858"
   }
  }
 },
 "nbformat": 4,
 "nbformat_minor": 2
}
