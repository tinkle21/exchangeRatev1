{
 "cells": [
  {
   "cell_type": "markdown",
   "metadata": {},
   "source": [
    "# ExchangeRate Coding Challange-Part2\n",
    "\n",
    "Perform some data analysis\n",
    "    Find the best and worst exchange rates for that time period\n",
    "    Calculate the average exchange rate for the month\n"
   ]
  },
  {
   "cell_type": "markdown",
   "metadata": {},
   "source": [
    "# Open Generated File and perform Analsyis\n"
   ]
  },
  {
   "cell_type": "code",
   "execution_count": 1,
   "metadata": {},
   "outputs": [],
   "source": [
    "import os\n",
    "import json\n",
    "output_folder = 'data'\n",
    "file_path = os.path.join(output_folder, 'exchange_rates_final.json')\n",
    "with open(file_path, 'r') as file:\n",
    "        exchange_data = json.load(file)\n"
   ]
  },
  {
   "cell_type": "markdown",
   "metadata": {},
   "source": [
    "# Get Best and Worst Exchange Rate\n",
    "\n"
   ]
  },
  {
   "cell_type": "code",
   "execution_count": 14,
   "metadata": {},
   "outputs": [],
   "source": [
    "import pandas as pd\n",
    "\n",
    "df = pd.DataFrame(exchange_data)\n",
    "\n"
   ]
  },
  {
   "cell_type": "code",
   "execution_count": 15,
   "metadata": {},
   "outputs": [],
   "source": [
    "df['aud_rate'] = df['rates'].apply(lambda x: x['AUD'])\n",
    "df['nzd_rate'] = df['rates'].apply(lambda x: x['NZD'])\n",
    "#df.drop('rates', axis=1, inplace=True)\n",
    "df = df[['date', 'aud_rate', 'nzd_rate']]\n",
    "df['aud_to_nzd'] = df['nzd_rate'] / df['aud_rate']\n"
   ]
  },
  {
   "cell_type": "code",
   "execution_count": 16,
   "metadata": {},
   "outputs": [
    {
     "data": {
      "text/html": [
       "<div>\n",
       "<style scoped>\n",
       "    .dataframe tbody tr th:only-of-type {\n",
       "        vertical-align: middle;\n",
       "    }\n",
       "\n",
       "    .dataframe tbody tr th {\n",
       "        vertical-align: top;\n",
       "    }\n",
       "\n",
       "    .dataframe thead th {\n",
       "        text-align: right;\n",
       "    }\n",
       "</style>\n",
       "<table border=\"1\" class=\"dataframe\">\n",
       "  <thead>\n",
       "    <tr style=\"text-align: right;\">\n",
       "      <th></th>\n",
       "      <th>date</th>\n",
       "      <th>aud_rate</th>\n",
       "      <th>nzd_rate</th>\n",
       "      <th>aud_to_nzd</th>\n",
       "    </tr>\n",
       "  </thead>\n",
       "  <tbody>\n",
       "    <tr>\n",
       "      <th>0</th>\n",
       "      <td>2024-02-24</td>\n",
       "      <td>1.652730</td>\n",
       "      <td>1.748208</td>\n",
       "      <td>1.057770</td>\n",
       "    </tr>\n",
       "    <tr>\n",
       "      <th>1</th>\n",
       "      <td>2024-02-25</td>\n",
       "      <td>1.648070</td>\n",
       "      <td>1.748957</td>\n",
       "      <td>1.061215</td>\n",
       "    </tr>\n",
       "    <tr>\n",
       "      <th>2</th>\n",
       "      <td>2024-02-26</td>\n",
       "      <td>1.659325</td>\n",
       "      <td>1.759800</td>\n",
       "      <td>1.060552</td>\n",
       "    </tr>\n",
       "    <tr>\n",
       "      <th>3</th>\n",
       "      <td>2024-02-27</td>\n",
       "      <td>1.657121</td>\n",
       "      <td>1.757550</td>\n",
       "      <td>1.060605</td>\n",
       "    </tr>\n",
       "    <tr>\n",
       "      <th>4</th>\n",
       "      <td>2024-02-28</td>\n",
       "      <td>1.668915</td>\n",
       "      <td>1.778039</td>\n",
       "      <td>1.065386</td>\n",
       "    </tr>\n",
       "    <tr>\n",
       "      <th>5</th>\n",
       "      <td>2024-02-29</td>\n",
       "      <td>1.662696</td>\n",
       "      <td>1.775517</td>\n",
       "      <td>1.067854</td>\n",
       "    </tr>\n",
       "    <tr>\n",
       "      <th>6</th>\n",
       "      <td>2024-03-01</td>\n",
       "      <td>1.660421</td>\n",
       "      <td>1.777047</td>\n",
       "      <td>1.070239</td>\n",
       "    </tr>\n",
       "    <tr>\n",
       "      <th>7</th>\n",
       "      <td>2024-03-02</td>\n",
       "      <td>1.660421</td>\n",
       "      <td>1.777047</td>\n",
       "      <td>1.070239</td>\n",
       "    </tr>\n",
       "    <tr>\n",
       "      <th>8</th>\n",
       "      <td>2024-03-03</td>\n",
       "      <td>1.660996</td>\n",
       "      <td>1.776466</td>\n",
       "      <td>1.069519</td>\n",
       "    </tr>\n",
       "    <tr>\n",
       "      <th>9</th>\n",
       "      <td>2024-03-04</td>\n",
       "      <td>1.668081</td>\n",
       "      <td>1.780606</td>\n",
       "      <td>1.067458</td>\n",
       "    </tr>\n",
       "    <tr>\n",
       "      <th>10</th>\n",
       "      <td>2024-03-05</td>\n",
       "      <td>1.669009</td>\n",
       "      <td>1.783090</td>\n",
       "      <td>1.068353</td>\n",
       "    </tr>\n",
       "    <tr>\n",
       "      <th>11</th>\n",
       "      <td>2024-03-06</td>\n",
       "      <td>1.659915</td>\n",
       "      <td>1.778777</td>\n",
       "      <td>1.071607</td>\n",
       "    </tr>\n",
       "    <tr>\n",
       "      <th>12</th>\n",
       "      <td>2024-03-07</td>\n",
       "      <td>1.653805</td>\n",
       "      <td>1.772325</td>\n",
       "      <td>1.071665</td>\n",
       "    </tr>\n",
       "    <tr>\n",
       "      <th>13</th>\n",
       "      <td>2024-03-08</td>\n",
       "      <td>1.647306</td>\n",
       "      <td>1.772383</td>\n",
       "      <td>1.075928</td>\n",
       "    </tr>\n",
       "    <tr>\n",
       "      <th>14</th>\n",
       "      <td>2024-03-09</td>\n",
       "      <td>1.647306</td>\n",
       "      <td>1.772383</td>\n",
       "      <td>1.075928</td>\n",
       "    </tr>\n",
       "    <tr>\n",
       "      <th>15</th>\n",
       "      <td>2024-03-10</td>\n",
       "      <td>1.651980</td>\n",
       "      <td>1.770987</td>\n",
       "      <td>1.072039</td>\n",
       "    </tr>\n",
       "    <tr>\n",
       "      <th>16</th>\n",
       "      <td>2024-03-11</td>\n",
       "      <td>1.652396</td>\n",
       "      <td>1.771560</td>\n",
       "      <td>1.072116</td>\n",
       "    </tr>\n",
       "    <tr>\n",
       "      <th>17</th>\n",
       "      <td>2024-03-12</td>\n",
       "      <td>1.653860</td>\n",
       "      <td>1.777041</td>\n",
       "      <td>1.074481</td>\n",
       "    </tr>\n",
       "    <tr>\n",
       "      <th>18</th>\n",
       "      <td>2024-03-13</td>\n",
       "      <td>1.652773</td>\n",
       "      <td>1.776883</td>\n",
       "      <td>1.075092</td>\n",
       "    </tr>\n",
       "    <tr>\n",
       "      <th>19</th>\n",
       "      <td>2024-03-14</td>\n",
       "      <td>1.654169</td>\n",
       "      <td>1.777054</td>\n",
       "      <td>1.074288</td>\n",
       "    </tr>\n",
       "    <tr>\n",
       "      <th>20</th>\n",
       "      <td>2024-03-15</td>\n",
       "      <td>1.660622</td>\n",
       "      <td>1.791058</td>\n",
       "      <td>1.078546</td>\n",
       "    </tr>\n",
       "    <tr>\n",
       "      <th>21</th>\n",
       "      <td>2024-03-16</td>\n",
       "      <td>1.660622</td>\n",
       "      <td>1.791058</td>\n",
       "      <td>1.078546</td>\n",
       "    </tr>\n",
       "    <tr>\n",
       "      <th>22</th>\n",
       "      <td>2024-03-17</td>\n",
       "      <td>1.659481</td>\n",
       "      <td>1.787937</td>\n",
       "      <td>1.077407</td>\n",
       "    </tr>\n",
       "    <tr>\n",
       "      <th>23</th>\n",
       "      <td>2024-03-18</td>\n",
       "      <td>1.658387</td>\n",
       "      <td>1.787793</td>\n",
       "      <td>1.078031</td>\n",
       "    </tr>\n",
       "    <tr>\n",
       "      <th>24</th>\n",
       "      <td>2024-03-19</td>\n",
       "      <td>1.664549</td>\n",
       "      <td>1.796004</td>\n",
       "      <td>1.078973</td>\n",
       "    </tr>\n",
       "    <tr>\n",
       "      <th>25</th>\n",
       "      <td>2024-03-20</td>\n",
       "      <td>1.657748</td>\n",
       "      <td>1.796158</td>\n",
       "      <td>1.083493</td>\n",
       "    </tr>\n",
       "    <tr>\n",
       "      <th>26</th>\n",
       "      <td>2024-03-21</td>\n",
       "      <td>1.652757</td>\n",
       "      <td>1.796599</td>\n",
       "      <td>1.087032</td>\n",
       "    </tr>\n",
       "    <tr>\n",
       "      <th>27</th>\n",
       "      <td>2024-03-22</td>\n",
       "      <td>1.667243</td>\n",
       "      <td>1.811810</td>\n",
       "      <td>1.086710</td>\n",
       "    </tr>\n",
       "    <tr>\n",
       "      <th>28</th>\n",
       "      <td>2024-03-23</td>\n",
       "      <td>1.667243</td>\n",
       "      <td>1.811810</td>\n",
       "      <td>1.086710</td>\n",
       "    </tr>\n",
       "    <tr>\n",
       "      <th>29</th>\n",
       "      <td>2024-03-24</td>\n",
       "      <td>1.658670</td>\n",
       "      <td>1.804381</td>\n",
       "      <td>1.087848</td>\n",
       "    </tr>\n",
       "    <tr>\n",
       "      <th>30</th>\n",
       "      <td>2024-03-25</td>\n",
       "      <td>1.657055</td>\n",
       "      <td>1.802069</td>\n",
       "      <td>1.087513</td>\n",
       "    </tr>\n",
       "  </tbody>\n",
       "</table>\n",
       "</div>"
      ],
      "text/plain": [
       "          date  aud_rate  nzd_rate  aud_to_nzd\n",
       "0   2024-02-24  1.652730  1.748208    1.057770\n",
       "1   2024-02-25  1.648070  1.748957    1.061215\n",
       "2   2024-02-26  1.659325  1.759800    1.060552\n",
       "3   2024-02-27  1.657121  1.757550    1.060605\n",
       "4   2024-02-28  1.668915  1.778039    1.065386\n",
       "5   2024-02-29  1.662696  1.775517    1.067854\n",
       "6   2024-03-01  1.660421  1.777047    1.070239\n",
       "7   2024-03-02  1.660421  1.777047    1.070239\n",
       "8   2024-03-03  1.660996  1.776466    1.069519\n",
       "9   2024-03-04  1.668081  1.780606    1.067458\n",
       "10  2024-03-05  1.669009  1.783090    1.068353\n",
       "11  2024-03-06  1.659915  1.778777    1.071607\n",
       "12  2024-03-07  1.653805  1.772325    1.071665\n",
       "13  2024-03-08  1.647306  1.772383    1.075928\n",
       "14  2024-03-09  1.647306  1.772383    1.075928\n",
       "15  2024-03-10  1.651980  1.770987    1.072039\n",
       "16  2024-03-11  1.652396  1.771560    1.072116\n",
       "17  2024-03-12  1.653860  1.777041    1.074481\n",
       "18  2024-03-13  1.652773  1.776883    1.075092\n",
       "19  2024-03-14  1.654169  1.777054    1.074288\n",
       "20  2024-03-15  1.660622  1.791058    1.078546\n",
       "21  2024-03-16  1.660622  1.791058    1.078546\n",
       "22  2024-03-17  1.659481  1.787937    1.077407\n",
       "23  2024-03-18  1.658387  1.787793    1.078031\n",
       "24  2024-03-19  1.664549  1.796004    1.078973\n",
       "25  2024-03-20  1.657748  1.796158    1.083493\n",
       "26  2024-03-21  1.652757  1.796599    1.087032\n",
       "27  2024-03-22  1.667243  1.811810    1.086710\n",
       "28  2024-03-23  1.667243  1.811810    1.086710\n",
       "29  2024-03-24  1.658670  1.804381    1.087848\n",
       "30  2024-03-25  1.657055  1.802069    1.087513"
      ]
     },
     "execution_count": 16,
     "metadata": {},
     "output_type": "execute_result"
    }
   ],
   "source": [
    "df"
   ]
  },
  {
   "cell_type": "markdown",
   "metadata": {},
   "source": [
    "#Get the best conversion rate"
   ]
  },
  {
   "cell_type": "code",
   "execution_count": 18,
   "metadata": {},
   "outputs": [
    {
     "name": "stdout",
     "output_type": "stream",
     "text": [
      "Best Rate in Last 30 days is :: 1.0878 on date :: 2024-03-24\n"
     ]
    }
   ],
   "source": [
    "max_index = df['aud_to_nzd'].idxmax()\n",
    "best_date = df.loc[max_index, 'date']\n",
    "best_rate = df.loc[max_index, 'aud_to_nzd']\n",
    "best_rate_rounded = round(best_rate, 4)\n",
    "print(f\"Best Rate in Last 30 days for AUD to NZD is :: {best_rate_rounded} on date :: {best_date}\")\n"
   ]
  },
  {
   "cell_type": "markdown",
   "metadata": {},
   "source": [
    "#Get the Worst conversion rate"
   ]
  },
  {
   "cell_type": "code",
   "execution_count": 19,
   "metadata": {},
   "outputs": [
    {
     "name": "stdout",
     "output_type": "stream",
     "text": [
      "worst Rate in Last 30 days for AUD to NZD is :: 1.0578 on date :: 2024-02-24\n"
     ]
    }
   ],
   "source": [
    "min_index = df['aud_to_nzd'].idxmin()\n",
    "worst_date = df.loc[min_index, 'date']\n",
    "worst_rate = df.loc[min_index, 'aud_to_nzd']\n",
    "worst_rate_rounded = round(worst_rate, 4)\n",
    "print(f\"worst Rate in Last 30 days for AUD to NZD is :: {worst_rate_rounded} on date :: {worst_date}\")"
   ]
  },
  {
   "cell_type": "markdown",
   "metadata": {},
   "source": [
    "# Get the Average Rate "
   ]
  },
  {
   "cell_type": "code",
   "execution_count": 21,
   "metadata": {},
   "outputs": [
    {
     "name": "stdout",
     "output_type": "stream",
     "text": [
      "Average AUD to NZD Ratio on last 30 days: 1.07397\n"
     ]
    }
   ],
   "source": [
    "# Get the Average Rate \n",
    "average_ratio = df['aud_to_nzd'].mean()\n",
    "avg_ratio_rounded = round(average_ratio, 5)\n",
    "print(\"Average AUD to NZD Ratio on last 30 days:\", avg_ratio_rounded)\n"
   ]
  }
 ],
 "metadata": {
  "kernelspec": {
   "display_name": "Python 3.10.4 64-bit",
   "language": "python",
   "name": "python3"
  },
  "language_info": {
   "codemirror_mode": {
    "name": "ipython",
    "version": 3
   },
   "file_extension": ".py",
   "mimetype": "text/x-python",
   "name": "python",
   "nbconvert_exporter": "python",
   "pygments_lexer": "ipython3",
   "version": "3.10.8"
  },
  "orig_nbformat": 4,
  "vscode": {
   "interpreter": {
    "hash": "3ad933181bd8a04b432d3370b9dc3b0662ad032c4dfaa4e4f1596c548f763858"
   }
  }
 },
 "nbformat": 4,
 "nbformat_minor": 2
}
